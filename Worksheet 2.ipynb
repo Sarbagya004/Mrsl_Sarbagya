{
  "nbformat": 4,
  "nbformat_minor": 0,
  "metadata": {
    "colab": {
      "provenance": []
    },
    "kernelspec": {
      "name": "python3",
      "display_name": "Python 3"
    },
    "language_info": {
      "name": "python"
    }
  },
  "cells": [
    {
      "cell_type": "code",
      "execution_count": null,
      "metadata": {
        "colab": {
          "base_uri": "https://localhost:8080/"
        },
        "id": "m1tNZK-SGVSH",
        "outputId": "99e0957b-d924-4881-a33f-b1479294e5cc"
      },
      "outputs": [
        {
          "output_type": "stream",
          "name": "stdout",
          "text": [
            "DataFrame Info:\n",
            "<class 'pandas.core.frame.DataFrame'>\n",
            "RangeIndex: 45211 entries, 0 to 45210\n",
            "Data columns (total 17 columns):\n",
            " #   Column     Non-Null Count  Dtype \n",
            "---  ------     --------------  ----- \n",
            " 0   age        45211 non-null  int64 \n",
            " 1   job        45211 non-null  object\n",
            " 2   marital    45211 non-null  object\n",
            " 3   education  45211 non-null  object\n",
            " 4   default    45211 non-null  object\n",
            " 5   balance    45211 non-null  int64 \n",
            " 6   housing    45211 non-null  object\n",
            " 7   loan       45211 non-null  object\n",
            " 8   contact    45211 non-null  object\n",
            " 9   day        45211 non-null  int64 \n",
            " 10  month      45211 non-null  object\n",
            " 11  duration   45211 non-null  int64 \n",
            " 12  campaign   45211 non-null  int64 \n",
            " 13  pdays      45211 non-null  int64 \n",
            " 14  previous   45211 non-null  int64 \n",
            " 15  poutcome   45211 non-null  object\n",
            " 16  y          45211 non-null  object\n",
            "dtypes: int64(7), object(10)\n",
            "memory usage: 5.9+ MB\n",
            "\n",
            "Columns with dtype 'object':\n",
            "Index(['job', 'marital', 'education', 'default', 'housing', 'loan', 'contact',\n",
            "       'month', 'poutcome', 'y'],\n",
            "      dtype='object')\n",
            "\n",
            "Unique values in job:\n",
            "['management' 'technician' 'entrepreneur' 'blue-collar' 'unknown'\n",
            " 'retired' 'admin.' 'services' 'self-employed' 'unemployed' 'housemaid'\n",
            " 'student']\n",
            "\n",
            "Unique values in marital:\n",
            "['married' 'single' 'divorced']\n",
            "\n",
            "Unique values in education:\n",
            "['tertiary' 'secondary' 'unknown' 'primary']\n",
            "\n",
            "Unique values in default:\n",
            "['no' 'yes']\n",
            "\n",
            "Unique values in housing:\n",
            "['yes' 'no']\n",
            "\n",
            "Unique values in loan:\n",
            "['no' 'yes']\n",
            "\n",
            "Unique values in contact:\n",
            "['unknown' 'cellular' 'telephone']\n",
            "\n",
            "Unique values in month:\n",
            "['may' 'jun' 'jul' 'aug' 'oct' 'nov' 'dec' 'jan' 'feb' 'mar' 'apr' 'sep']\n",
            "\n",
            "Unique values in poutcome:\n",
            "['unknown' 'failure' 'other' 'success']\n",
            "\n",
            "Unique values in y:\n",
            "['no' 'yes']\n",
            "\n",
            "Null values in each column:\n",
            "age          0\n",
            "job          0\n",
            "marital      0\n",
            "education    0\n",
            "default      0\n",
            "balance      0\n",
            "housing      0\n",
            "loan         0\n",
            "contact      0\n",
            "day          0\n",
            "month        0\n",
            "duration     0\n",
            "campaign     0\n",
            "pdays        0\n",
            "previous     0\n",
            "poutcome     0\n",
            "y            0\n",
            "dtype: int64\n",
            "\n",
            "Summary statistics of numeric columns:\n",
            "                age        balance           day      duration      campaign  \\\n",
            "count  45211.000000   45211.000000  45211.000000  45211.000000  45211.000000   \n",
            "mean      40.936210    1362.272058     15.806419    258.163080      2.763841   \n",
            "std       10.618762    3044.765829      8.322476    257.527812      3.098021   \n",
            "min       18.000000   -8019.000000      1.000000      0.000000      1.000000   \n",
            "25%       33.000000      72.000000      8.000000    103.000000      1.000000   \n",
            "50%       39.000000     448.000000     16.000000    180.000000      2.000000   \n",
            "75%       48.000000    1428.000000     21.000000    319.000000      3.000000   \n",
            "max       95.000000  102127.000000     31.000000   4918.000000     63.000000   \n",
            "\n",
            "              pdays      previous  \n",
            "count  45211.000000  45211.000000  \n",
            "mean      40.197828      0.580323  \n",
            "std      100.128746      2.303441  \n",
            "min       -1.000000      0.000000  \n",
            "25%       -1.000000      0.000000  \n",
            "50%       -1.000000      0.000000  \n",
            "75%       -1.000000      0.000000  \n",
            "max      871.000000    275.000000  \n"
          ]
        }
      ],
      "source": [
        "import pandas as pd\n",
        "\n",
        "# 1 Load the dataset into a pandas DataFrame\n",
        "df = pd.read_csv('/content/drive/MyDrive/Dataset/bank .csv')\n",
        "\n",
        "# 2 Check the DataFrame info and identify columns with dtype=object\n",
        "print(\"DataFrame Info:\")\n",
        "df_info = df.info()\n",
        "\n",
        "# (a) Identify columns with dtype=object\n",
        "object_columns = df.select_dtypes(include=['object']).columns\n",
        "print(\"\\nColumns with dtype 'object':\")\n",
        "print(object_columns)\n",
        "\n",
        "# (b) Find the unique values of those columns\n",
        "for col in object_columns:\n",
        "    unique_vals = df[col].unique()\n",
        "    print(f\"\\nUnique values in {col}:\")\n",
        "    print(unique_vals)\n",
        "\n",
        "# (c) Check for null values in each column\n",
        "null_values = df.isnull().sum()\n",
        "print(\"\\nNull values in each column:\")\n",
        "print(null_values)\n",
        "\n",
        "# 3 Drop columns with dtype=object and create a new DataFrame with numeric columns\n",
        "df_numeric = df.drop(columns=object_columns)\n",
        "\n",
        "# Write the new DataFrame to a CSV file\n",
        "df_numeric.to_csv('banknumericdata.csv', index=False)\n",
        "\n",
        "# 4 Read the new 'banknumericdata.csv' file and get summary statistics\n",
        "df_numeric_read = pd.read_csv('banknumericdata.csv')\n",
        "print(\"\\nSummary statistics of numeric columns:\")\n",
        "print(df_numeric_read.describe())\n"
      ]
    },
    {
      "cell_type": "code",
      "source": [
        "import pandas as pd\n",
        "\n",
        "# 1. Load the Titanic dataset into a pandas DataFrame\n",
        "df = pd.read_csv('/content/drive/MyDrive/Dataset/Titanic-Dataset.csv')\n",
        "\n",
        "# 2. Create a DataFrame subset with the required columns\n",
        "subset_df = df[['Name', 'Pclass', 'Sex', 'Age', 'Fare', 'Survived']]\n",
        "\n",
        "# 3. Filter the data to include only rows where Pclass = 1 (first-class passengers)\n",
        "first_class_df = subset_df[subset_df['Pclass'] == 1]\n",
        "\n",
        "# 4. Check for null values in the 'Age' column\n",
        "null_age_count = first_class_df['Age'].isnull().sum()\n",
        "print(f\"Number of null values in the 'Age' column: {null_age_count}\")\n",
        "\n",
        "# 5. Drop rows with null values in the 'Age' column\n",
        "first_class_df_cleaned = first_class_df.dropna(subset=['Age'])\n",
        "\n",
        "# Verify the number of null values after dropping\n",
        "null_age_count_after_drop = first_class_df_cleaned['Age'].isnull().sum()\n",
        "print(f\"Number of null values in the 'Age' column after dropping: {null_age_count_after_drop}\")\n"
      ],
      "metadata": {
        "colab": {
          "base_uri": "https://localhost:8080/"
        },
        "id": "wtGp70DQINel",
        "outputId": "9963397c-e837-40d5-bb4b-160b8879a259"
      },
      "execution_count": null,
      "outputs": [
        {
          "output_type": "stream",
          "name": "stdout",
          "text": [
            "Number of null values in the 'Age' column: 30\n",
            "Number of null values in the 'Age' column after dropping: 0\n"
          ]
        }
      ]
    },
    {
      "cell_type": "code",
      "source": [
        "import pandas as pd\n",
        "\n",
        "#  Load the dataset into a pandas DataFrame\n",
        "df = pd.read_csv('/content/drive/MyDrive/Dataset/medical_students_dataset.csv')\n",
        "\n",
        "#  Check the DataFrame info and identify columns with missing values\n",
        "print(\"DataFrame Info:\")\n",
        "df_info = df.info()\n",
        "\n",
        "# Identify columns with missing (null) values\n",
        "missing_values = df.isnull().sum()\n",
        "print(\"\\nMissing values in each column:\")\n",
        "print(missing_values)\n",
        "\n",
        "#  Impute the missing values\n",
        "for column in df.columns:\n",
        "    if df[column].isnull().sum() > 0:\n",
        "        if df[column].dtype == 'object':\n",
        "            # If the column is categorical (object), fill missing values with the mode (most frequent value)\n",
        "            mode_value = df[column].mode()[0]\n",
        "            df[column].fillna(mode_value, inplace=True)\n",
        "            print(f\"\\nMissing values in column '{column}' were filled with the mode value: {mode_value}\")\n",
        "        else:\n",
        "            # If the column is numerical, fill missing values with the mean or median\n",
        "            # Let's use the median to avoid outliers' influence\n",
        "            median_value = df[column].median()\n",
        "            df[column].fillna(median_value, inplace=True)\n",
        "            print(f\"\\nMissing values in column '{column}' were filled with the median value: {median_value}\")\n",
        "\n",
        "#  Check for any duplicate values and manage them\n",
        "duplicates = df.duplicated().sum()\n",
        "print(\"\\nNumber of duplicate rows:\", duplicates)\n",
        "\n",
        "# Remove duplicates if any\n",
        "if duplicates > 0:\n",
        "    df.drop_duplicates(inplace=True)\n",
        "    print(\"\\nDuplicates have been removed.\")\n",
        "\n",
        "# After handling missing values and duplicates, let's check the final info\n",
        "print(\"\\nFinal DataFrame Info after imputations and handling duplicates:\")\n",
        "df_info_after = df.info()\n"
      ],
      "metadata": {
        "id": "6RivYqIiGkdN",
        "colab": {
          "base_uri": "https://localhost:8080/"
        },
        "outputId": "71fa110a-6e4a-4482-9d71-44fa38b38d1c"
      },
      "execution_count": null,
      "outputs": [
        {
          "output_type": "stream",
          "name": "stdout",
          "text": [
            "DataFrame Info:\n",
            "<class 'pandas.core.frame.DataFrame'>\n",
            "RangeIndex: 200000 entries, 0 to 199999\n",
            "Data columns (total 13 columns):\n",
            " #   Column          Non-Null Count   Dtype  \n",
            "---  ------          --------------   -----  \n",
            " 0   Student ID      180000 non-null  float64\n",
            " 1   Age             180000 non-null  float64\n",
            " 2   Gender          180000 non-null  object \n",
            " 3   Height          180000 non-null  float64\n",
            " 4   Weight          180000 non-null  float64\n",
            " 5   Blood Type      180000 non-null  object \n",
            " 6   BMI             180000 non-null  float64\n",
            " 7   Temperature     180000 non-null  float64\n",
            " 8   Heart Rate      180000 non-null  float64\n",
            " 9   Blood Pressure  180000 non-null  float64\n",
            " 10  Cholesterol     180000 non-null  float64\n",
            " 11  Diabetes        180000 non-null  object \n",
            " 12  Smoking         180000 non-null  object \n",
            "dtypes: float64(9), object(4)\n",
            "memory usage: 19.8+ MB\n",
            "\n",
            "Missing values in each column:\n",
            "Student ID        20000\n",
            "Age               20000\n",
            "Gender            20000\n",
            "Height            20000\n",
            "Weight            20000\n",
            "Blood Type        20000\n",
            "BMI               20000\n",
            "Temperature       20000\n",
            "Heart Rate        20000\n",
            "Blood Pressure    20000\n",
            "Cholesterol       20000\n",
            "Diabetes          20000\n",
            "Smoking           20000\n",
            "dtype: int64\n",
            "\n",
            "Missing values in column 'Student ID' were filled with the median value: 49943.5\n",
            "\n",
            "Missing values in column 'Age' were filled with the median value: 26.0\n",
            "\n",
            "Missing values in column 'Gender' were filled with the mode value: Male\n",
            "\n",
            "Missing values in column 'Height' were filled with the median value: 174.8999141442403\n",
            "\n",
            "Missing values in column 'Weight' were filled with the median value: 69.9793837798508\n",
            "\n",
            "Missing values in column 'Blood Type' were filled with the mode value: B\n",
            "\n",
            "Missing values in column 'BMI' were filled with the median value: 22.671401449817218\n",
            "\n",
            "Missing values in column 'Temperature' were filled with the median value: 98.5996537029178\n",
            "\n",
            "Missing values in column 'Heart Rate' were filled with the median value: 80.0\n",
            "\n",
            "Missing values in column 'Blood Pressure' were filled with the median value: 115.0\n"
          ]
        },
        {
          "output_type": "stream",
          "name": "stderr",
          "text": [
            "<ipython-input-8-7f17561a9126>:27: FutureWarning: A value is trying to be set on a copy of a DataFrame or Series through chained assignment using an inplace method.\n",
            "The behavior will change in pandas 3.0. This inplace method will never work because the intermediate object on which we are setting values always behaves as a copy.\n",
            "\n",
            "For example, when doing 'df[col].method(value, inplace=True)', try using 'df.method({col: value}, inplace=True)' or df[col] = df[col].method(value) instead, to perform the operation inplace on the original object.\n",
            "\n",
            "\n",
            "  df[column].fillna(median_value, inplace=True)\n",
            "<ipython-input-8-7f17561a9126>:21: FutureWarning: A value is trying to be set on a copy of a DataFrame or Series through chained assignment using an inplace method.\n",
            "The behavior will change in pandas 3.0. This inplace method will never work because the intermediate object on which we are setting values always behaves as a copy.\n",
            "\n",
            "For example, when doing 'df[col].method(value, inplace=True)', try using 'df.method({col: value}, inplace=True)' or df[col] = df[col].method(value) instead, to perform the operation inplace on the original object.\n",
            "\n",
            "\n",
            "  df[column].fillna(mode_value, inplace=True)\n"
          ]
        },
        {
          "output_type": "stream",
          "name": "stdout",
          "text": [
            "\n",
            "Missing values in column 'Cholesterol' were filled with the median value: 184.0\n",
            "\n",
            "Missing values in column 'Diabetes' were filled with the mode value: No\n",
            "\n",
            "Missing values in column 'Smoking' were filled with the mode value: No\n",
            "\n",
            "Number of duplicate rows: 12879\n",
            "\n",
            "Duplicates have been removed.\n",
            "\n",
            "Final DataFrame Info after imputations and handling duplicates:\n",
            "<class 'pandas.core.frame.DataFrame'>\n",
            "Index: 187121 entries, 0 to 199999\n",
            "Data columns (total 13 columns):\n",
            " #   Column          Non-Null Count   Dtype  \n",
            "---  ------          --------------   -----  \n",
            " 0   Student ID      187121 non-null  float64\n",
            " 1   Age             187121 non-null  float64\n",
            " 2   Gender          187121 non-null  object \n",
            " 3   Height          187121 non-null  float64\n",
            " 4   Weight          187121 non-null  float64\n",
            " 5   Blood Type      187121 non-null  object \n",
            " 6   BMI             187121 non-null  float64\n",
            " 7   Temperature     187121 non-null  float64\n",
            " 8   Heart Rate      187121 non-null  float64\n",
            " 9   Blood Pressure  187121 non-null  float64\n",
            " 10  Cholesterol     187121 non-null  float64\n",
            " 11  Diabetes        187121 non-null  object \n",
            " 12  Smoking         187121 non-null  object \n",
            "dtypes: float64(9), object(4)\n",
            "memory usage: 20.0+ MB\n"
          ]
        }
      ]
    },
    {
      "cell_type": "code",
      "source": [
        "import pandas as pd\n",
        "\n",
        "# 1. Load the Titanic dataset into a pandas DataFrame\n",
        "df = pd.read_csv('/content/drive/MyDrive/Dataset/Titanic-Dataset.csv')\n",
        "\n",
        "# 2. Use one-hot encoding to convert the 'Embarked' column into separate binary columns\n",
        "embarked_dummies = pd.get_dummies(df['Embarked'], prefix='Embarked')\n",
        "\n",
        "# 3. Add the new binary columns to the original DataFrame\n",
        "df = pd.concat([df, embarked_dummies], axis=1)\n",
        "\n",
        "# 4. Drop the original 'Embarked' column\n",
        "df.drop('Embarked', axis=1, inplace=True)\n",
        "\n",
        "# 5. Print the first few rows of the modified DataFrame to verify the changes\n",
        "print(df.head())\n"
      ],
      "metadata": {
        "id": "DsnJ9JBnJACI",
        "colab": {
          "base_uri": "https://localhost:8080/"
        },
        "outputId": "d63d539b-1f2f-4915-d71d-30184fe9ec51"
      },
      "execution_count": null,
      "outputs": [
        {
          "output_type": "stream",
          "name": "stdout",
          "text": [
            "   PassengerId  Survived  Pclass  \\\n",
            "0            1         0       3   \n",
            "1            2         1       1   \n",
            "2            3         1       3   \n",
            "3            4         1       1   \n",
            "4            5         0       3   \n",
            "\n",
            "                                                Name     Sex   Age  SibSp  \\\n",
            "0                            Braund, Mr. Owen Harris    male  22.0      1   \n",
            "1  Cumings, Mrs. John Bradley (Florence Briggs Th...  female  38.0      1   \n",
            "2                             Heikkinen, Miss. Laina  female  26.0      0   \n",
            "3       Futrelle, Mrs. Jacques Heath (Lily May Peel)  female  35.0      1   \n",
            "4                           Allen, Mr. William Henry    male  35.0      0   \n",
            "\n",
            "   Parch            Ticket     Fare Cabin  Embarked_C  Embarked_Q  Embarked_S  \n",
            "0      0         A/5 21171   7.2500   NaN       False       False        True  \n",
            "1      0          PC 17599  71.2833   C85        True       False       False  \n",
            "2      0  STON/O2. 3101282   7.9250   NaN       False       False        True  \n",
            "3      0            113803  53.1000  C123       False       False        True  \n",
            "4      0            373450   8.0500   NaN       False       False        True  \n"
          ]
        }
      ]
    },
    {
      "cell_type": "code",
      "source": [
        "import pandas as pd\n",
        "import matplotlib.pyplot as plt\n",
        "import seaborn as sns\n",
        "\n",
        "# 1. Load the Titanic dataset into a pandas DataFrame\n",
        "df = pd.read_csv('/content/drive/MyDrive/Dataset/Titanic-Dataset.csv')\n",
        "\n",
        "# 2. Calculate the mean survival rates for each gender (grouped by 'Sex')\n",
        "mean_survival_rate_by_sex = df.groupby('Sex')['Survived'].mean()\n",
        "print(\"Mean Survival Rates by Gender:\")\n",
        "print(mean_survival_rate_by_sex)\n",
        "\n",
        "# 3. Create a visualization of the survival distribution by gender\n",
        "plt.figure(figsize=(8, 6))\n",
        "sns.countplot(data=df, x='Sex', hue='Survived', palette='Set1')\n",
        "plt.title('Survival Distribution by Gender')\n",
        "plt.xlabel('Gender')\n",
        "plt.ylabel('Count')\n",
        "plt.legend(title='Survived', labels=['No', 'Yes'])\n",
        "plt.show()\n"
      ],
      "metadata": {
        "id": "2tkf1KPBJBLX",
        "colab": {
          "base_uri": "https://localhost:8080/",
          "height": 651
        },
        "outputId": "70c5379c-5a03-45fb-f8c0-d01c55637bf9"
      },
      "execution_count": null,
      "outputs": [
        {
          "output_type": "stream",
          "name": "stdout",
          "text": [
            "Mean Survival Rates by Gender:\n",
            "Sex\n",
            "female    0.742038\n",
            "male      0.188908\n",
            "Name: Survived, dtype: float64\n"
          ]
        },
        {
          "output_type": "display_data",
          "data": {
            "text/plain": [
              "<Figure size 800x600 with 1 Axes>"
            ],
            "image/png": "[encoded data removed]"
          },
          "metadata": {}
        }
      ]
    },
    {
      "cell_type": "code",
      "source": [
        "import pandas as pd\n",
        "import matplotlib.pyplot as plt\n",
        "import seaborn as sns\n",
        "\n",
        "# 1. Load the Titanic dataset into a pandas DataFrame\n",
        "df = pd.read_csv('/content/drive/MyDrive/Dataset/Titanic-Dataset.csv')\n",
        "\n",
        "# 2. Filter the data to include only the ports 'C', 'Q', 'S'\n",
        "df_filtered = df[df['Embarked'].isin(['C', 'Q', 'S'])]\n",
        "\n",
        "# 3. Create a count plot to show the survival distribution by gender and port of embarkation\n",
        "plt.figure(figsize=(10, 6))\n",
        "sns.countplot(data=df_filtered, x='Embarked', hue='Sex', palette='Set1', hue_order=['male', 'female'])\n",
        "plt.title('Survival Distribution by Gender and Port of Embarkation')\n",
        "plt.xlabel('Port of Embarkation')\n",
        "plt.ylabel('Count')\n",
        "plt.legend(title='Gender', labels=['Male', 'Female'])\n",
        "plt.show()\n"
      ],
      "metadata": {
        "id": "faNwww2hJR0W",
        "colab": {
          "base_uri": "https://localhost:8080/",
          "height": 564
        },
        "outputId": "9bf2e4f5-567d-4d09-be53-aace2a8e8f34"
      },
      "execution_count": null,
      "outputs": [
        {
          "output_type": "display_data",
          "data": {
            "text/plain": [
              "<Figure size 1000x600 with 1 Axes>"
            ],
            "image/png": "[encoded data removed]"
          },
          "metadata": {}
        }
      ]
    },
    {
      "cell_type": "code",
      "source": [
        "import pandas as pd\n",
        "import matplotlib.pyplot as plt\n",
        "import seaborn as sns\n",
        "\n",
        "# 1. Load the Titanic dataset into a pandas DataFrame\n",
        "df = pd.read_csv('/content/drive/MyDrive/Dataset/Titanic-Dataset.csv')\n",
        "\n",
        "# 2. Divide the 'Age' column into five quantiles\n",
        "df['Age Group'] = pd.qcut(df['Age'], 5, labels=['Q1', 'Q2', 'Q3', 'Q4', 'Q5'])\n",
        "\n",
        "# 3. Calculate the mean survival rate ('Survived') for each combination of Pclass and Age Group\n",
        "mean_survival_by_class_age = df.groupby(['Pclass', 'Age Group'])['Survived'].mean().reset_index()\n",
        "\n",
        "# 4. Create a visualization to show the survival rates by Pclass and Age Group\n",
        "plt.figure(figsize=(10, 6))\n",
        "sns.heatmap(mean_survival_by_class_age.pivot('Age Group', 'Pclass', 'Survived'), annot=True, cmap='YlGnBu', cbar_kws={'label': 'Survival Rate'})\n",
        "plt.title('Survival Rates by Age Group and Passenger Class')\n",
        "plt.xlabel('Passenger Class')\n",
        "plt.ylabel('Age Group')\n",
        "plt.show()\n"
      ],
      "metadata": {
        "id": "zUEt7DPwJf4H",
        "outputId": "8bfb8c55-2807-443d-f546-5f03f3c9b4e8",
        "colab": {
          "base_uri": "https://localhost:8080/",
          "height": 283
        }
      },
      "execution_count": null,
      "outputs": [
        {
          "output_type": "stream",
          "name": "stderr",
          "text": [
            "<ipython-input-5-c35a31c49ebe>:12: FutureWarning: The default of observed=False is deprecated and will be changed to True in a future version of pandas. Pass observed=False to retain current behavior or observed=True to adopt the future default and silence this warning.\n",
            "  mean_survival_by_class_age = df.groupby(['Pclass', 'Age Group'])['Survived'].mean().reset_index()\n"
          ]
        },
        {
          "output_type": "error",
          "ename": "TypeError",
          "evalue": "DataFrame.pivot() takes 1 positional argument but 4 were given",
          "traceback": [
            "\u001b[0;31m---------------------------------------------------------------------------\u001b[0m",
            "\u001b[0;31mTypeError\u001b[0m                                 Traceback (most recent call last)",
            "\u001b[0;32m<ipython-input-5-c35a31c49ebe>\u001b[0m in \u001b[0;36m<cell line: 16>\u001b[0;34m()\u001b[0m\n\u001b[1;32m     14\u001b[0m \u001b[0;31m# 4. Create a visualization to show the survival rates by Pclass and Age Group\u001b[0m\u001b[0;34m\u001b[0m\u001b[0;34m\u001b[0m\u001b[0m\n\u001b[1;32m     15\u001b[0m \u001b[0mplt\u001b[0m\u001b[0;34m.\u001b[0m\u001b[0mfigure\u001b[0m\u001b[0;34m(\u001b[0m\u001b[0mfigsize\u001b[0m\u001b[0;34m=\u001b[0m\u001b[0;34m(\u001b[0m\u001b[0;36m10\u001b[0m\u001b[0;34m,\u001b[0m \u001b[0;36m6\u001b[0m\u001b[0;34m)\u001b[0m\u001b[0;34m)\u001b[0m\u001b[0;34m\u001b[0m\u001b[0;34m\u001b[0m\u001b[0m\n\u001b[0;32m---> 16\u001b[0;31m \u001b[0msns\u001b[0m\u001b[0;34m.\u001b[0m\u001b[0mheatmap\u001b[0m\u001b[0;34m(\u001b[0m\u001b[0mmean_survival_by_class_age\u001b[0m\u001b[0;34m.\u001b[0m\u001b[0mpivot\u001b[0m\u001b[0;34m(\u001b[0m\u001b[0;34m'Age Group'\u001b[0m\u001b[0;34m,\u001b[0m \u001b[0;34m'Pclass'\u001b[0m\u001b[0;34m,\u001b[0m \u001b[0;34m'Survived'\u001b[0m\u001b[0;34m)\u001b[0m\u001b[0;34m,\u001b[0m \u001b[0mannot\u001b[0m\u001b[0;34m=\u001b[0m\u001b[0;32mTrue\u001b[0m\u001b[0;34m,\u001b[0m \u001b[0mcmap\u001b[0m\u001b[0;34m=\u001b[0m\u001b[0;34m'YlGnBu'\u001b[0m\u001b[0;34m,\u001b[0m \u001b[0mcbar_kws\u001b[0m\u001b[0;34m=\u001b[0m\u001b[0;34m{\u001b[0m\u001b[0;34m'label'\u001b[0m\u001b[0;34m:\u001b[0m \u001b[0;34m'Survival Rate'\u001b[0m\u001b[0;34m}\u001b[0m\u001b[0;34m)\u001b[0m\u001b[0;34m\u001b[0m\u001b[0;34m\u001b[0m\u001b[0m\n\u001b[0m\u001b[1;32m     17\u001b[0m \u001b[0mplt\u001b[0m\u001b[0;34m.\u001b[0m\u001b[0mtitle\u001b[0m\u001b[0;34m(\u001b[0m\u001b[0;34m'Survival Rates by Age Group and Passenger Class'\u001b[0m\u001b[0;34m)\u001b[0m\u001b[0;34m\u001b[0m\u001b[0;34m\u001b[0m\u001b[0m\n\u001b[1;32m     18\u001b[0m \u001b[0mplt\u001b[0m\u001b[0;34m.\u001b[0m\u001b[0mxlabel\u001b[0m\u001b[0;34m(\u001b[0m\u001b[0;34m'Passenger Class'\u001b[0m\u001b[0;34m)\u001b[0m\u001b[0;34m\u001b[0m\u001b[0;34m\u001b[0m\u001b[0m\n",
            "\u001b[0;31mTypeError\u001b[0m: DataFrame.pivot() takes 1 positional argument but 4 were given"
          ]
        },
        {
          "output_type": "display_data",
          "data": {
            "text/plain": [
              "<Figure size 1000x600 with 0 Axes>"
            ]
          },
          "metadata": {}
        }
      ]
    }
  ]
}